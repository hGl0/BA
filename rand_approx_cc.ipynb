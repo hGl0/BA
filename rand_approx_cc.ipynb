{
 "cells": [
  {
   "cell_type": "code",
   "execution_count": 80,
   "metadata": {},
   "outputs": [],
   "source": [
    "import random"
   ]
  },
  {
   "cell_type": "code",
   "execution_count": 113,
   "metadata": {},
   "outputs": [],
   "source": [
    "#definiton\n",
    "# V=Knotenmenge, Ep = Positive, Em = Negative\n",
    "# ungerichteter Graph => [i,j] oder [j,i]\n",
    "\n",
    "def CCPivot(V, Ep, Em):\n",
    "    i = random.choice(V)\n",
    "    C, Vn = [i], []\n",
    "    for j in V:\n",
    "        if j != i:\n",
    "            if [i, j] in Ep or [j, i] in Ep:\n",
    "                C.append(j)\n",
    "            if [i, j] in Em or [j, i] in Em:\n",
    "                Vn.append(j)\n",
    "\n",
    "# End condition, last cluster found\n",
    "    if Vn == []:\n",
    "        return C, []\n",
    "    return C, CCPivot(Vn, Ep, Em)"
   ]
  },
  {
   "cell_type": "code",
   "execution_count": 82,
   "metadata": {},
   "outputs": [
    {
     "name": "stdout",
     "output_type": "stream",
     "text": [
      "V: [1, 2, 3, 4, 5, 6, 7, 8, 9, 10, 11, 12]\n"
     ]
    }
   ],
   "source": [
    "# Test\n",
    "# G=(E,V) mit\n",
    "V= list(range(1,13))\n",
    "print(\"V:\", V)"
   ]
  },
  {
   "cell_type": "code",
   "execution_count": 83,
   "metadata": {},
   "outputs": [],
   "source": [
    "Ep = [[1,2],[1,3],[1,12],[1,11],[3,12],[2,3],[2,12],[2,11],[3,11],[11,12],[4,5],[4,6],[5,6],[7,10],[7,8],[7,9],[8,9],[8,10],[9,10]]"
   ]
  },
  {
   "cell_type": "code",
   "execution_count": 84,
   "metadata": {},
   "outputs": [],
   "source": [
    "Em = [[1,4],[1,5],[1,6],[1,7],[1,8],[1,9],[1,10],[2,4],[2,5],[2,6],[2,7],[2,8],[2,9],[2,10],[3,5],[3,6],[3,7],\n",
    "      [3,8],[3,9],[3,10],[4,7],[4,8],[4,9],[4,11],[4,12],[5,7],[5,8],[5,9],[5,10],[5,11],[5,12],[6,8],[6,9],[6,10],\n",
    "      [6,11],[6,12],[7,11],[7,12],[8,11],[8,12],[9,11],[9,12],[10,12],[10,11],[3,4],[6,7],[10,4]]"
   ]
  },
  {
   "cell_type": "code",
   "execution_count": null,
   "metadata": {},
   "outputs": [],
   "source": []
  },
  {
   "cell_type": "code",
   "execution_count": 141,
   "metadata": {},
   "outputs": [],
   "source": [
    "# Kosmetik\n",
    "def optik(A, result=[]):\n",
    "    if A[1] == []:\n",
    "        return result.append(A[0])\n",
    "    else:\n",
    "        return result.extend([A[0], optik(A[1])])"
   ]
  },
  {
   "cell_type": "code",
   "execution_count": 142,
   "metadata": {},
   "outputs": [
    {
     "name": "stdout",
     "output_type": "stream",
     "text": [
      "([3, 1, 2, 11, 12], ([7, 8, 9, 10], ([6, 4, 5], [])))\n",
      "None\n"
     ]
    }
   ],
   "source": [
    "test = CCPivot(V,Ep,Em)\n",
    "print(test)\n",
    "print(optik(test))\n",
    "#print(test[0])"
   ]
  },
  {
   "cell_type": "code",
   "execution_count": null,
   "metadata": {},
   "outputs": [],
   "source": []
  },
  {
   "cell_type": "code",
   "execution_count": null,
   "metadata": {},
   "outputs": [],
   "source": []
  }
 ],
 "metadata": {
  "kernelspec": {
   "display_name": "Python 3",
   "language": "python",
   "name": "python3"
  },
  "language_info": {
   "codemirror_mode": {
    "name": "ipython",
    "version": 3
   },
   "file_extension": ".py",
   "mimetype": "text/x-python",
   "name": "python",
   "nbconvert_exporter": "python",
   "pygments_lexer": "ipython3",
   "version": "3.9.1"
  }
 },
 "nbformat": 4,
 "nbformat_minor": 4
}
