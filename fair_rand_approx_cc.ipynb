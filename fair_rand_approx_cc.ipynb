{
 "cells": [
  {
   "cell_type": "code",
   "execution_count": 1,
   "metadata": {},
   "outputs": [],
   "source": [
    "import random\n",
    "import numpy as np"
   ]
  },
  {
   "cell_type": "code",
   "execution_count": 2,
   "metadata": {},
   "outputs": [],
   "source": [
    "#definiton\n",
    "# V=Knotenmenge, Ep = Positive, Em = Negative\n",
    "# ungerichteter Graph => [i,j] oder [j,i]\n",
    "\n",
    "def CCPivot(V, Ep, Em):\n",
    "    i = V.index(random.choice(V))\n",
    "    C, Vn = [i], []\n",
    "    for j in range(len(V)):\n",
    "        if j != i:\n",
    "            if [i, j] in Ep or [j, i] in Ep:\n",
    "                C.append(j)\n",
    "            if [i, j] in Em or [j, i] in Em:\n",
    "                Vn.append(j)\n",
    "\n",
    "# End condition, last cluster found\n",
    "    if Vn == []:\n",
    "        return C, []\n",
    "    return C, CCPivot(Vn, Ep, Em)"
   ]
  },
  {
   "cell_type": "code",
   "execution_count": 3,
   "metadata": {},
   "outputs": [],
   "source": [
    "def optik(A):\n",
    "    if A[1] == []:\n",
    "        return [A[0]]\n",
    "    else:\n",
    "        return [A[0]] + optik(A[1])"
   ]
  },
  {
   "cell_type": "code",
   "execution_count": 4,
   "metadata": {},
   "outputs": [],
   "source": [
    "# 1 = rot\n",
    "# 0 = blau (grün)\n",
    "def color(V):\n",
    "    random.seed(1)\n",
    "    R = []\n",
    "    B = []\n",
    "    for k in range(len(V)):\n",
    "        i = random.choice(range(0,2))\n",
    "        if i == 1:\n",
    "            R.append(k)\n",
    "        else:\n",
    "            B.append(k)\n",
    "        V[k] = i\n",
    "    return V,R,B"
   ]
  },
  {
   "cell_type": "code",
   "execution_count": 5,
   "metadata": {},
   "outputs": [],
   "source": [
    "def balance(R, B):\n",
    "    red = len(R)\n",
    "    blue = len(B)\n",
    "    balance = min(red/blue, blue/red)\n",
    "    return balance"
   ]
  },
  {
   "cell_type": "code",
   "execution_count": 6,
   "metadata": {},
   "outputs": [],
   "source": [
    "def fairlets_naiv(R, B, Ep, Em,):\n",
    "    fairlets = []\n",
    "    k = random.choice(B)\n",
    "    min_dis = np.inf\n",
    "    pass   "
   ]
  },
  {
   "cell_type": "code",
   "execution_count": 7,
   "metadata": {},
   "outputs": [],
   "source": [
    "Ep = [[1,2],[1,3],[1,12],[1,11],[3,12],[2,3],[2,12],[2,11],[3,11],[11,12],[4,5],[4,6],[5,6],[7,10],[7,8],[7,9],[8,9],[8,10],[9,10]]\n",
    "for i in Ep:\n",
    "    i[0] = i[0]-1\n",
    "    i[1] = i[1]-1"
   ]
  },
  {
   "cell_type": "code",
   "execution_count": 8,
   "metadata": {},
   "outputs": [],
   "source": [
    "Em = [[1,4],[1,5],[1,6],[1,7],[1,8],[1,9],[1,10],[2,4],[2,5],[2,6],[2,7],[2,8],[2,9],[2,10],[3,5],[3,6],[3,7],\n",
    "      [3,8],[3,9],[3,10],[4,7],[4,8],[4,9],[4,11],[4,12],[5,7],[5,8],[5,9],[5,10],[5,11],[5,12],[6,8],[6,9],[6,10],\n",
    "      [6,11],[6,12],[7,11],[7,12],[8,11],[8,12],[9,11],[9,12],[10,12],[10,11],[3,4],[6,7],[10,4]]\n",
    "for i in Em:\n",
    "    i[0] = i[0]-1\n",
    "    i[1] = i[1]-1"
   ]
  },
  {
   "cell_type": "code",
   "execution_count": 9,
   "metadata": {},
   "outputs": [
    {
     "name": "stdout",
     "output_type": "stream",
     "text": [
      "V: [0, 1, 2, 3, 4, 5, 6, 7, 8, 9, 10, 11]\n",
      "colored V: [0, 0, 1, 0, 1, 1, 1, 1, 0, 0, 1, 0]\n",
      "Red: [2, 4, 5, 6, 7, 10]\n",
      "blue: [0, 1, 3, 8, 9, 11]\n",
      "Balance: 1.0\n",
      "[[2, 0, 1, 10, 11], [3, 4, 5], [0, 1, 2], [0]]\n"
     ]
    }
   ],
   "source": [
    "# Test\n",
    "# G=(E,V) mit\n",
    "V = list(range(0,12))\n",
    "print(\"V:\", V)\n",
    "\n",
    "V_colored, Red, Blue = color(V)[0], color(V)[1], color(V)[2]\n",
    "print(\"colored V:\", V_colored)\n",
    "\n",
    "print(\"Red:\", Red)\n",
    "print(\"blue:\", Blue)\n",
    "\n",
    "balance_V_colored = balance(Red, Blue)\n",
    "\n",
    "print(\"Balance:\", balance_V_colored)\n",
    "\n",
    "test = CCPivot(V,Ep,Em)\n",
    "print(optik(test))"
   ]
  },
  {
   "cell_type": "code",
   "execution_count": null,
   "metadata": {},
   "outputs": [],
   "source": []
  }
 ],
 "metadata": {
  "kernelspec": {
   "display_name": "Python 3",
   "language": "python",
   "name": "python3"
  },
  "language_info": {
   "codemirror_mode": {
    "name": "ipython",
    "version": 3
   },
   "file_extension": ".py",
   "mimetype": "text/x-python",
   "name": "python",
   "nbconvert_exporter": "python",
   "pygments_lexer": "ipython3",
   "version": "3.9.2"
  }
 },
 "nbformat": 4,
 "nbformat_minor": 4
}
